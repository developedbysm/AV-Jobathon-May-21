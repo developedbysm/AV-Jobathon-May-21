{
 "cells": [
  {
   "cell_type": "markdown",
   "metadata": {},
   "source": [
    "# Credit Card Lead"
   ]
  },
  {
   "cell_type": "markdown",
   "metadata": {},
   "source": [
    "### To find the probabilities of customer interested in getting a credit card,  which will help the bank in cross selling amongst different bank account categories"
   ]
  },
  {
   "cell_type": "code",
   "execution_count": 1,
   "metadata": {},
   "outputs": [],
   "source": [
    "import pandas as pd\n",
    "import numpy as np\n",
    "import warnings\n",
    "warnings.filterwarnings('ignore')"
   ]
  },
  {
   "cell_type": "markdown",
   "metadata": {},
   "source": [
    "### Reading The Train Data And Test Data"
   ]
  },
  {
   "cell_type": "code",
   "execution_count": 4,
   "metadata": {},
   "outputs": [],
   "source": [
    "data_train=pd.read_csv(\"train_s3TEQDk.csv\")"
   ]
  },
  {
   "cell_type": "code",
   "execution_count": 8,
   "metadata": {},
   "outputs": [],
   "source": [
    "data_test=pd.read_csv(\"test_mSzZ8RL.csv\")"
   ]
  },
  {
   "cell_type": "markdown",
   "metadata": {},
   "source": [
    "### Analysis The Train And Test Datasets"
   ]
  },
  {
   "cell_type": "code",
   "execution_count": 6,
   "metadata": {},
   "outputs": [
    {
     "data": {
      "text/html": [
       "<div>\n",
       "<style scoped>\n",
       "    .dataframe tbody tr th:only-of-type {\n",
       "        vertical-align: middle;\n",
       "    }\n",
       "\n",
       "    .dataframe tbody tr th {\n",
       "        vertical-align: top;\n",
       "    }\n",
       "\n",
       "    .dataframe thead th {\n",
       "        text-align: right;\n",
       "    }\n",
       "</style>\n",
       "<table border=\"1\" class=\"dataframe\">\n",
       "  <thead>\n",
       "    <tr style=\"text-align: right;\">\n",
       "      <th></th>\n",
       "      <th>ID</th>\n",
       "      <th>Gender</th>\n",
       "      <th>Age</th>\n",
       "      <th>Region_Code</th>\n",
       "      <th>Occupation</th>\n",
       "      <th>Channel_Code</th>\n",
       "      <th>Vintage</th>\n",
       "      <th>Credit_Product</th>\n",
       "      <th>Avg_Account_Balance</th>\n",
       "      <th>Is_Active</th>\n",
       "      <th>Is_Lead</th>\n",
       "    </tr>\n",
       "  </thead>\n",
       "  <tbody>\n",
       "    <tr>\n",
       "      <th>0</th>\n",
       "      <td>NNVBBKZB</td>\n",
       "      <td>Female</td>\n",
       "      <td>73</td>\n",
       "      <td>RG268</td>\n",
       "      <td>Other</td>\n",
       "      <td>X3</td>\n",
       "      <td>43</td>\n",
       "      <td>No</td>\n",
       "      <td>1045696</td>\n",
       "      <td>No</td>\n",
       "      <td>0</td>\n",
       "    </tr>\n",
       "    <tr>\n",
       "      <th>1</th>\n",
       "      <td>IDD62UNG</td>\n",
       "      <td>Female</td>\n",
       "      <td>30</td>\n",
       "      <td>RG277</td>\n",
       "      <td>Salaried</td>\n",
       "      <td>X1</td>\n",
       "      <td>32</td>\n",
       "      <td>No</td>\n",
       "      <td>581988</td>\n",
       "      <td>No</td>\n",
       "      <td>0</td>\n",
       "    </tr>\n",
       "    <tr>\n",
       "      <th>2</th>\n",
       "      <td>HD3DSEMC</td>\n",
       "      <td>Female</td>\n",
       "      <td>56</td>\n",
       "      <td>RG268</td>\n",
       "      <td>Self_Employed</td>\n",
       "      <td>X3</td>\n",
       "      <td>26</td>\n",
       "      <td>No</td>\n",
       "      <td>1484315</td>\n",
       "      <td>Yes</td>\n",
       "      <td>0</td>\n",
       "    </tr>\n",
       "    <tr>\n",
       "      <th>3</th>\n",
       "      <td>BF3NC7KV</td>\n",
       "      <td>Male</td>\n",
       "      <td>34</td>\n",
       "      <td>RG270</td>\n",
       "      <td>Salaried</td>\n",
       "      <td>X1</td>\n",
       "      <td>19</td>\n",
       "      <td>No</td>\n",
       "      <td>470454</td>\n",
       "      <td>No</td>\n",
       "      <td>0</td>\n",
       "    </tr>\n",
       "    <tr>\n",
       "      <th>4</th>\n",
       "      <td>TEASRWXV</td>\n",
       "      <td>Female</td>\n",
       "      <td>30</td>\n",
       "      <td>RG282</td>\n",
       "      <td>Salaried</td>\n",
       "      <td>X1</td>\n",
       "      <td>33</td>\n",
       "      <td>No</td>\n",
       "      <td>886787</td>\n",
       "      <td>No</td>\n",
       "      <td>0</td>\n",
       "    </tr>\n",
       "  </tbody>\n",
       "</table>\n",
       "</div>"
      ],
      "text/plain": [
       "         ID  Gender  Age Region_Code     Occupation Channel_Code  Vintage  \\\n",
       "0  NNVBBKZB  Female   73       RG268          Other           X3       43   \n",
       "1  IDD62UNG  Female   30       RG277       Salaried           X1       32   \n",
       "2  HD3DSEMC  Female   56       RG268  Self_Employed           X3       26   \n",
       "3  BF3NC7KV    Male   34       RG270       Salaried           X1       19   \n",
       "4  TEASRWXV  Female   30       RG282       Salaried           X1       33   \n",
       "\n",
       "  Credit_Product  Avg_Account_Balance Is_Active  Is_Lead  \n",
       "0             No              1045696        No        0  \n",
       "1             No               581988        No        0  \n",
       "2             No              1484315       Yes        0  \n",
       "3             No               470454        No        0  \n",
       "4             No               886787        No        0  "
      ]
     },
     "execution_count": 6,
     "metadata": {},
     "output_type": "execute_result"
    }
   ],
   "source": [
    "data_train.head()"
   ]
  },
  {
   "cell_type": "code",
   "execution_count": 9,
   "metadata": {},
   "outputs": [
    {
     "data": {
      "text/html": [
       "<div>\n",
       "<style scoped>\n",
       "    .dataframe tbody tr th:only-of-type {\n",
       "        vertical-align: middle;\n",
       "    }\n",
       "\n",
       "    .dataframe tbody tr th {\n",
       "        vertical-align: top;\n",
       "    }\n",
       "\n",
       "    .dataframe thead th {\n",
       "        text-align: right;\n",
       "    }\n",
       "</style>\n",
       "<table border=\"1\" class=\"dataframe\">\n",
       "  <thead>\n",
       "    <tr style=\"text-align: right;\">\n",
       "      <th></th>\n",
       "      <th>ID</th>\n",
       "      <th>Gender</th>\n",
       "      <th>Age</th>\n",
       "      <th>Region_Code</th>\n",
       "      <th>Occupation</th>\n",
       "      <th>Channel_Code</th>\n",
       "      <th>Vintage</th>\n",
       "      <th>Credit_Product</th>\n",
       "      <th>Avg_Account_Balance</th>\n",
       "      <th>Is_Active</th>\n",
       "    </tr>\n",
       "  </thead>\n",
       "  <tbody>\n",
       "    <tr>\n",
       "      <th>0</th>\n",
       "      <td>VBENBARO</td>\n",
       "      <td>Male</td>\n",
       "      <td>29</td>\n",
       "      <td>RG254</td>\n",
       "      <td>Other</td>\n",
       "      <td>X1</td>\n",
       "      <td>25</td>\n",
       "      <td>Yes</td>\n",
       "      <td>742366</td>\n",
       "      <td>No</td>\n",
       "    </tr>\n",
       "    <tr>\n",
       "      <th>1</th>\n",
       "      <td>CCMEWNKY</td>\n",
       "      <td>Male</td>\n",
       "      <td>43</td>\n",
       "      <td>RG268</td>\n",
       "      <td>Other</td>\n",
       "      <td>X2</td>\n",
       "      <td>49</td>\n",
       "      <td>NaN</td>\n",
       "      <td>925537</td>\n",
       "      <td>No</td>\n",
       "    </tr>\n",
       "    <tr>\n",
       "      <th>2</th>\n",
       "      <td>VK3KGA9M</td>\n",
       "      <td>Male</td>\n",
       "      <td>31</td>\n",
       "      <td>RG270</td>\n",
       "      <td>Salaried</td>\n",
       "      <td>X1</td>\n",
       "      <td>14</td>\n",
       "      <td>No</td>\n",
       "      <td>215949</td>\n",
       "      <td>No</td>\n",
       "    </tr>\n",
       "    <tr>\n",
       "      <th>3</th>\n",
       "      <td>TT8RPZVC</td>\n",
       "      <td>Male</td>\n",
       "      <td>29</td>\n",
       "      <td>RG272</td>\n",
       "      <td>Other</td>\n",
       "      <td>X1</td>\n",
       "      <td>33</td>\n",
       "      <td>No</td>\n",
       "      <td>868070</td>\n",
       "      <td>No</td>\n",
       "    </tr>\n",
       "    <tr>\n",
       "      <th>4</th>\n",
       "      <td>SHQZEYTZ</td>\n",
       "      <td>Female</td>\n",
       "      <td>29</td>\n",
       "      <td>RG270</td>\n",
       "      <td>Other</td>\n",
       "      <td>X1</td>\n",
       "      <td>19</td>\n",
       "      <td>No</td>\n",
       "      <td>657087</td>\n",
       "      <td>No</td>\n",
       "    </tr>\n",
       "  </tbody>\n",
       "</table>\n",
       "</div>"
      ],
      "text/plain": [
       "         ID  Gender  Age Region_Code Occupation Channel_Code  Vintage  \\\n",
       "0  VBENBARO    Male   29       RG254      Other           X1       25   \n",
       "1  CCMEWNKY    Male   43       RG268      Other           X2       49   \n",
       "2  VK3KGA9M    Male   31       RG270   Salaried           X1       14   \n",
       "3  TT8RPZVC    Male   29       RG272      Other           X1       33   \n",
       "4  SHQZEYTZ  Female   29       RG270      Other           X1       19   \n",
       "\n",
       "  Credit_Product  Avg_Account_Balance Is_Active  \n",
       "0            Yes               742366        No  \n",
       "1            NaN               925537        No  \n",
       "2             No               215949        No  \n",
       "3             No               868070        No  \n",
       "4             No               657087        No  "
      ]
     },
     "execution_count": 9,
     "metadata": {},
     "output_type": "execute_result"
    }
   ],
   "source": [
    "data_test.head()"
   ]
  },
  {
   "cell_type": "markdown",
   "metadata": {},
   "source": [
    "### Checking The Rows In Train And Test Data"
   ]
  },
  {
   "cell_type": "code",
   "execution_count": 6,
   "metadata": {},
   "outputs": [
    {
     "data": {
      "text/plain": [
       "(245725, 11)"
      ]
     },
     "execution_count": 6,
     "metadata": {},
     "output_type": "execute_result"
    }
   ],
   "source": [
    "data_train.shape"
   ]
  },
  {
   "cell_type": "code",
   "execution_count": 7,
   "metadata": {},
   "outputs": [
    {
     "data": {
      "text/plain": [
       "(105312, 10)"
      ]
     },
     "execution_count": 7,
     "metadata": {},
     "output_type": "execute_result"
    }
   ],
   "source": [
    "data_test.shape"
   ]
  },
  {
   "cell_type": "markdown",
   "metadata": {},
   "source": [
    "### Checking The Null Values In Train And Test Data "
   ]
  },
  {
   "cell_type": "code",
   "execution_count": 8,
   "metadata": {},
   "outputs": [
    {
     "name": "stdout",
     "output_type": "stream",
     "text": [
      "<class 'pandas.core.frame.DataFrame'>\n",
      "RangeIndex: 245725 entries, 0 to 245724\n",
      "Data columns (total 11 columns):\n",
      " #   Column               Non-Null Count   Dtype \n",
      "---  ------               --------------   ----- \n",
      " 0   ID                   245725 non-null  object\n",
      " 1   Gender               245725 non-null  object\n",
      " 2   Age                  245725 non-null  int64 \n",
      " 3   Region_Code          245725 non-null  object\n",
      " 4   Occupation           245725 non-null  object\n",
      " 5   Channel_Code         245725 non-null  object\n",
      " 6   Vintage              245725 non-null  int64 \n",
      " 7   Credit_Product       216400 non-null  object\n",
      " 8   Avg_Account_Balance  245725 non-null  int64 \n",
      " 9   Is_Active            245725 non-null  object\n",
      " 10  Is_Lead              245725 non-null  int64 \n",
      "dtypes: int64(4), object(7)\n",
      "memory usage: 20.6+ MB\n"
     ]
    }
   ],
   "source": [
    "data_train.info()"
   ]
  },
  {
   "cell_type": "code",
   "execution_count": 9,
   "metadata": {},
   "outputs": [
    {
     "name": "stdout",
     "output_type": "stream",
     "text": [
      "<class 'pandas.core.frame.DataFrame'>\n",
      "RangeIndex: 105312 entries, 0 to 105311\n",
      "Data columns (total 10 columns):\n",
      " #   Column               Non-Null Count   Dtype \n",
      "---  ------               --------------   ----- \n",
      " 0   ID                   105312 non-null  object\n",
      " 1   Gender               105312 non-null  object\n",
      " 2   Age                  105312 non-null  int64 \n",
      " 3   Region_Code          105312 non-null  object\n",
      " 4   Occupation           105312 non-null  object\n",
      " 5   Channel_Code         105312 non-null  object\n",
      " 6   Vintage              105312 non-null  int64 \n",
      " 7   Credit_Product       92790 non-null   object\n",
      " 8   Avg_Account_Balance  105312 non-null  int64 \n",
      " 9   Is_Active            105312 non-null  object\n",
      "dtypes: int64(3), object(7)\n",
      "memory usage: 8.0+ MB\n"
     ]
    }
   ],
   "source": [
    "data_test.info()"
   ]
  },
  {
   "cell_type": "markdown",
   "metadata": {},
   "source": [
    "### Checking Duplicated Values In Train And Test Data"
   ]
  },
  {
   "cell_type": "code",
   "execution_count": 10,
   "metadata": {},
   "outputs": [
    {
     "data": {
      "text/html": [
       "<div>\n",
       "<style scoped>\n",
       "    .dataframe tbody tr th:only-of-type {\n",
       "        vertical-align: middle;\n",
       "    }\n",
       "\n",
       "    .dataframe tbody tr th {\n",
       "        vertical-align: top;\n",
       "    }\n",
       "\n",
       "    .dataframe thead th {\n",
       "        text-align: right;\n",
       "    }\n",
       "</style>\n",
       "<table border=\"1\" class=\"dataframe\">\n",
       "  <thead>\n",
       "    <tr style=\"text-align: right;\">\n",
       "      <th></th>\n",
       "      <th>ID</th>\n",
       "      <th>Gender</th>\n",
       "      <th>Age</th>\n",
       "      <th>Region_Code</th>\n",
       "      <th>Occupation</th>\n",
       "      <th>Channel_Code</th>\n",
       "      <th>Vintage</th>\n",
       "      <th>Credit_Product</th>\n",
       "      <th>Avg_Account_Balance</th>\n",
       "      <th>Is_Active</th>\n",
       "      <th>Is_Lead</th>\n",
       "    </tr>\n",
       "  </thead>\n",
       "  <tbody>\n",
       "  </tbody>\n",
       "</table>\n",
       "</div>"
      ],
      "text/plain": [
       "Empty DataFrame\n",
       "Columns: [ID, Gender, Age, Region_Code, Occupation, Channel_Code, Vintage, Credit_Product, Avg_Account_Balance, Is_Active, Is_Lead]\n",
       "Index: []"
      ]
     },
     "execution_count": 10,
     "metadata": {},
     "output_type": "execute_result"
    }
   ],
   "source": [
    "data_train[data_train.duplicated(keep= False)]"
   ]
  },
  {
   "cell_type": "code",
   "execution_count": 11,
   "metadata": {},
   "outputs": [
    {
     "data": {
      "text/html": [
       "<div>\n",
       "<style scoped>\n",
       "    .dataframe tbody tr th:only-of-type {\n",
       "        vertical-align: middle;\n",
       "    }\n",
       "\n",
       "    .dataframe tbody tr th {\n",
       "        vertical-align: top;\n",
       "    }\n",
       "\n",
       "    .dataframe thead th {\n",
       "        text-align: right;\n",
       "    }\n",
       "</style>\n",
       "<table border=\"1\" class=\"dataframe\">\n",
       "  <thead>\n",
       "    <tr style=\"text-align: right;\">\n",
       "      <th></th>\n",
       "      <th>ID</th>\n",
       "      <th>Gender</th>\n",
       "      <th>Age</th>\n",
       "      <th>Region_Code</th>\n",
       "      <th>Occupation</th>\n",
       "      <th>Channel_Code</th>\n",
       "      <th>Vintage</th>\n",
       "      <th>Credit_Product</th>\n",
       "      <th>Avg_Account_Balance</th>\n",
       "      <th>Is_Active</th>\n",
       "    </tr>\n",
       "  </thead>\n",
       "  <tbody>\n",
       "  </tbody>\n",
       "</table>\n",
       "</div>"
      ],
      "text/plain": [
       "Empty DataFrame\n",
       "Columns: [ID, Gender, Age, Region_Code, Occupation, Channel_Code, Vintage, Credit_Product, Avg_Account_Balance, Is_Active]\n",
       "Index: []"
      ]
     },
     "execution_count": 11,
     "metadata": {},
     "output_type": "execute_result"
    }
   ],
   "source": [
    "data_test[data_test.duplicated(keep=False)]"
   ]
  },
  {
   "cell_type": "code",
   "execution_count": 12,
   "metadata": {},
   "outputs": [
    {
     "data": {
      "text/html": [
       "<div>\n",
       "<style scoped>\n",
       "    .dataframe tbody tr th:only-of-type {\n",
       "        vertical-align: middle;\n",
       "    }\n",
       "\n",
       "    .dataframe tbody tr th {\n",
       "        vertical-align: top;\n",
       "    }\n",
       "\n",
       "    .dataframe thead th {\n",
       "        text-align: right;\n",
       "    }\n",
       "</style>\n",
       "<table border=\"1\" class=\"dataframe\">\n",
       "  <thead>\n",
       "    <tr style=\"text-align: right;\">\n",
       "      <th></th>\n",
       "      <th>Age</th>\n",
       "      <th>Vintage</th>\n",
       "      <th>Avg_Account_Balance</th>\n",
       "      <th>Is_Lead</th>\n",
       "    </tr>\n",
       "  </thead>\n",
       "  <tbody>\n",
       "    <tr>\n",
       "      <th>count</th>\n",
       "      <td>245725.000000</td>\n",
       "      <td>245725.000000</td>\n",
       "      <td>2.457250e+05</td>\n",
       "      <td>245725.000000</td>\n",
       "    </tr>\n",
       "    <tr>\n",
       "      <th>mean</th>\n",
       "      <td>43.856307</td>\n",
       "      <td>46.959141</td>\n",
       "      <td>1.128403e+06</td>\n",
       "      <td>0.237208</td>\n",
       "    </tr>\n",
       "    <tr>\n",
       "      <th>std</th>\n",
       "      <td>14.828672</td>\n",
       "      <td>32.353136</td>\n",
       "      <td>8.529364e+05</td>\n",
       "      <td>0.425372</td>\n",
       "    </tr>\n",
       "    <tr>\n",
       "      <th>min</th>\n",
       "      <td>23.000000</td>\n",
       "      <td>7.000000</td>\n",
       "      <td>2.079000e+04</td>\n",
       "      <td>0.000000</td>\n",
       "    </tr>\n",
       "    <tr>\n",
       "      <th>25%</th>\n",
       "      <td>30.000000</td>\n",
       "      <td>20.000000</td>\n",
       "      <td>6.043100e+05</td>\n",
       "      <td>0.000000</td>\n",
       "    </tr>\n",
       "    <tr>\n",
       "      <th>50%</th>\n",
       "      <td>43.000000</td>\n",
       "      <td>32.000000</td>\n",
       "      <td>8.946010e+05</td>\n",
       "      <td>0.000000</td>\n",
       "    </tr>\n",
       "    <tr>\n",
       "      <th>75%</th>\n",
       "      <td>54.000000</td>\n",
       "      <td>73.000000</td>\n",
       "      <td>1.366666e+06</td>\n",
       "      <td>0.000000</td>\n",
       "    </tr>\n",
       "    <tr>\n",
       "      <th>max</th>\n",
       "      <td>85.000000</td>\n",
       "      <td>135.000000</td>\n",
       "      <td>1.035201e+07</td>\n",
       "      <td>1.000000</td>\n",
       "    </tr>\n",
       "  </tbody>\n",
       "</table>\n",
       "</div>"
      ],
      "text/plain": [
       "                 Age        Vintage  Avg_Account_Balance        Is_Lead\n",
       "count  245725.000000  245725.000000         2.457250e+05  245725.000000\n",
       "mean       43.856307      46.959141         1.128403e+06       0.237208\n",
       "std        14.828672      32.353136         8.529364e+05       0.425372\n",
       "min        23.000000       7.000000         2.079000e+04       0.000000\n",
       "25%        30.000000      20.000000         6.043100e+05       0.000000\n",
       "50%        43.000000      32.000000         8.946010e+05       0.000000\n",
       "75%        54.000000      73.000000         1.366666e+06       0.000000\n",
       "max        85.000000     135.000000         1.035201e+07       1.000000"
      ]
     },
     "execution_count": 12,
     "metadata": {},
     "output_type": "execute_result"
    }
   ],
   "source": [
    "data_train.describe()"
   ]
  },
  {
   "cell_type": "code",
   "execution_count": 13,
   "metadata": {},
   "outputs": [
    {
     "data": {
      "text/html": [
       "<div>\n",
       "<style scoped>\n",
       "    .dataframe tbody tr th:only-of-type {\n",
       "        vertical-align: middle;\n",
       "    }\n",
       "\n",
       "    .dataframe tbody tr th {\n",
       "        vertical-align: top;\n",
       "    }\n",
       "\n",
       "    .dataframe thead th {\n",
       "        text-align: right;\n",
       "    }\n",
       "</style>\n",
       "<table border=\"1\" class=\"dataframe\">\n",
       "  <thead>\n",
       "    <tr style=\"text-align: right;\">\n",
       "      <th></th>\n",
       "      <th>Age</th>\n",
       "      <th>Vintage</th>\n",
       "      <th>Avg_Account_Balance</th>\n",
       "    </tr>\n",
       "  </thead>\n",
       "  <tbody>\n",
       "    <tr>\n",
       "      <th>count</th>\n",
       "      <td>105312.000000</td>\n",
       "      <td>105312.000000</td>\n",
       "      <td>1.053120e+05</td>\n",
       "    </tr>\n",
       "    <tr>\n",
       "      <th>mean</th>\n",
       "      <td>43.871002</td>\n",
       "      <td>46.842819</td>\n",
       "      <td>1.134195e+06</td>\n",
       "    </tr>\n",
       "    <tr>\n",
       "      <th>std</th>\n",
       "      <td>14.872890</td>\n",
       "      <td>32.273634</td>\n",
       "      <td>8.662430e+05</td>\n",
       "    </tr>\n",
       "    <tr>\n",
       "      <th>min</th>\n",
       "      <td>24.000000</td>\n",
       "      <td>7.000000</td>\n",
       "      <td>2.259700e+04</td>\n",
       "    </tr>\n",
       "    <tr>\n",
       "      <th>25%</th>\n",
       "      <td>30.000000</td>\n",
       "      <td>20.000000</td>\n",
       "      <td>6.039822e+05</td>\n",
       "    </tr>\n",
       "    <tr>\n",
       "      <th>50%</th>\n",
       "      <td>43.000000</td>\n",
       "      <td>32.000000</td>\n",
       "      <td>8.966345e+05</td>\n",
       "    </tr>\n",
       "    <tr>\n",
       "      <th>75%</th>\n",
       "      <td>54.000000</td>\n",
       "      <td>73.000000</td>\n",
       "      <td>1.371598e+06</td>\n",
       "    </tr>\n",
       "    <tr>\n",
       "      <th>max</th>\n",
       "      <td>85.000000</td>\n",
       "      <td>135.000000</td>\n",
       "      <td>9.908858e+06</td>\n",
       "    </tr>\n",
       "  </tbody>\n",
       "</table>\n",
       "</div>"
      ],
      "text/plain": [
       "                 Age        Vintage  Avg_Account_Balance\n",
       "count  105312.000000  105312.000000         1.053120e+05\n",
       "mean       43.871002      46.842819         1.134195e+06\n",
       "std        14.872890      32.273634         8.662430e+05\n",
       "min        24.000000       7.000000         2.259700e+04\n",
       "25%        30.000000      20.000000         6.039822e+05\n",
       "50%        43.000000      32.000000         8.966345e+05\n",
       "75%        54.000000      73.000000         1.371598e+06\n",
       "max        85.000000     135.000000         9.908858e+06"
      ]
     },
     "execution_count": 13,
     "metadata": {},
     "output_type": "execute_result"
    }
   ],
   "source": [
    "data_test.describe()"
   ]
  },
  {
   "cell_type": "markdown",
   "metadata": {},
   "source": [
    "### Combined The Train and Test Data "
   ]
  },
  {
   "cell_type": "code",
   "execution_count": 14,
   "metadata": {},
   "outputs": [],
   "source": [
    "def get_combined_data():\n",
    "    train = pd.read_csv('train_s3TEQDk.csv')\n",
    "    test = pd.read_csv('test_mSzZ8RL.csv')\n",
    "    targets = train.Is_Lead\n",
    "    train.drop('Is_Lead', 1, inplace=True)\n",
    "    combined = train.append(test)\n",
    "    combined.reset_index(inplace=True)\n",
    "    combined.drop(['index', 'ID'], inplace=True, axis=1)\n",
    "    return combined"
   ]
  },
  {
   "cell_type": "code",
   "execution_count": 15,
   "metadata": {},
   "outputs": [],
   "source": [
    "train=pd.read_csv('train_s3TEQDk.csv')\n",
    "targets=train.Is_Lead"
   ]
  },
  {
   "cell_type": "code",
   "execution_count": 16,
   "metadata": {},
   "outputs": [
    {
     "data": {
      "text/html": [
       "<div>\n",
       "<style scoped>\n",
       "    .dataframe tbody tr th:only-of-type {\n",
       "        vertical-align: middle;\n",
       "    }\n",
       "\n",
       "    .dataframe tbody tr th {\n",
       "        vertical-align: top;\n",
       "    }\n",
       "\n",
       "    .dataframe thead th {\n",
       "        text-align: right;\n",
       "    }\n",
       "</style>\n",
       "<table border=\"1\" class=\"dataframe\">\n",
       "  <thead>\n",
       "    <tr style=\"text-align: right;\">\n",
       "      <th></th>\n",
       "      <th>Age</th>\n",
       "      <th>Vintage</th>\n",
       "      <th>Avg_Account_Balance</th>\n",
       "    </tr>\n",
       "  </thead>\n",
       "  <tbody>\n",
       "    <tr>\n",
       "      <th>count</th>\n",
       "      <td>351037.000000</td>\n",
       "      <td>351037.000000</td>\n",
       "      <td>3.510370e+05</td>\n",
       "    </tr>\n",
       "    <tr>\n",
       "      <th>mean</th>\n",
       "      <td>43.860716</td>\n",
       "      <td>46.924244</td>\n",
       "      <td>1.130141e+06</td>\n",
       "    </tr>\n",
       "    <tr>\n",
       "      <th>std</th>\n",
       "      <td>14.841932</td>\n",
       "      <td>32.329303</td>\n",
       "      <td>8.569530e+05</td>\n",
       "    </tr>\n",
       "    <tr>\n",
       "      <th>min</th>\n",
       "      <td>23.000000</td>\n",
       "      <td>7.000000</td>\n",
       "      <td>2.079000e+04</td>\n",
       "    </tr>\n",
       "    <tr>\n",
       "      <th>25%</th>\n",
       "      <td>30.000000</td>\n",
       "      <td>20.000000</td>\n",
       "      <td>6.041850e+05</td>\n",
       "    </tr>\n",
       "    <tr>\n",
       "      <th>50%</th>\n",
       "      <td>43.000000</td>\n",
       "      <td>32.000000</td>\n",
       "      <td>8.951620e+05</td>\n",
       "    </tr>\n",
       "    <tr>\n",
       "      <th>75%</th>\n",
       "      <td>54.000000</td>\n",
       "      <td>73.000000</td>\n",
       "      <td>1.368152e+06</td>\n",
       "    </tr>\n",
       "    <tr>\n",
       "      <th>max</th>\n",
       "      <td>85.000000</td>\n",
       "      <td>135.000000</td>\n",
       "      <td>1.035201e+07</td>\n",
       "    </tr>\n",
       "  </tbody>\n",
       "</table>\n",
       "</div>"
      ],
      "text/plain": [
       "                 Age        Vintage  Avg_Account_Balance\n",
       "count  351037.000000  351037.000000         3.510370e+05\n",
       "mean       43.860716      46.924244         1.130141e+06\n",
       "std        14.841932      32.329303         8.569530e+05\n",
       "min        23.000000       7.000000         2.079000e+04\n",
       "25%        30.000000      20.000000         6.041850e+05\n",
       "50%        43.000000      32.000000         8.951620e+05\n",
       "75%        54.000000      73.000000         1.368152e+06\n",
       "max        85.000000     135.000000         1.035201e+07"
      ]
     },
     "execution_count": 16,
     "metadata": {},
     "output_type": "execute_result"
    }
   ],
   "source": [
    "combined = get_combined_data()\n",
    "combined.describe()"
   ]
  },
  {
   "cell_type": "code",
   "execution_count": 17,
   "metadata": {},
   "outputs": [
    {
     "data": {
      "text/plain": [
       "(351037, 9)"
      ]
     },
     "execution_count": 17,
     "metadata": {},
     "output_type": "execute_result"
    }
   ],
   "source": [
    "combined.shape"
   ]
  },
  {
   "cell_type": "markdown",
   "metadata": {},
   "source": [
    "### Filling The Null Values"
   ]
  },
  {
   "cell_type": "code",
   "execution_count": 18,
   "metadata": {},
   "outputs": [],
   "source": [
    "def impute_Credit_Product():\n",
    "    global combined\n",
    "    combined['Credit_Product'].fillna('Yes', inplace=True) "
   ]
  },
  {
   "cell_type": "code",
   "execution_count": 19,
   "metadata": {},
   "outputs": [],
   "source": [
    "impute_Credit_Product()"
   ]
  },
  {
   "cell_type": "code",
   "execution_count": 20,
   "metadata": {},
   "outputs": [
    {
     "name": "stdout",
     "output_type": "stream",
     "text": [
      "<class 'pandas.core.frame.DataFrame'>\n",
      "RangeIndex: 351037 entries, 0 to 351036\n",
      "Data columns (total 9 columns):\n",
      " #   Column               Non-Null Count   Dtype \n",
      "---  ------               --------------   ----- \n",
      " 0   Gender               351037 non-null  object\n",
      " 1   Age                  351037 non-null  int64 \n",
      " 2   Region_Code          351037 non-null  object\n",
      " 3   Occupation           351037 non-null  object\n",
      " 4   Channel_Code         351037 non-null  object\n",
      " 5   Vintage              351037 non-null  int64 \n",
      " 6   Credit_Product       351037 non-null  object\n",
      " 7   Avg_Account_Balance  351037 non-null  int64 \n",
      " 8   Is_Active            351037 non-null  object\n",
      "dtypes: int64(3), object(6)\n",
      "memory usage: 24.1+ MB\n"
     ]
    }
   ],
   "source": [
    "combined.info()"
   ]
  },
  {
   "cell_type": "code",
   "execution_count": 21,
   "metadata": {},
   "outputs": [
    {
     "data": {
      "text/html": [
       "<div>\n",
       "<style scoped>\n",
       "    .dataframe tbody tr th:only-of-type {\n",
       "        vertical-align: middle;\n",
       "    }\n",
       "\n",
       "    .dataframe tbody tr th {\n",
       "        vertical-align: top;\n",
       "    }\n",
       "\n",
       "    .dataframe thead th {\n",
       "        text-align: right;\n",
       "    }\n",
       "</style>\n",
       "<table border=\"1\" class=\"dataframe\">\n",
       "  <thead>\n",
       "    <tr style=\"text-align: right;\">\n",
       "      <th></th>\n",
       "      <th>Gender</th>\n",
       "      <th>Age</th>\n",
       "      <th>Region_Code</th>\n",
       "      <th>Occupation</th>\n",
       "      <th>Channel_Code</th>\n",
       "      <th>Vintage</th>\n",
       "      <th>Credit_Product</th>\n",
       "      <th>Avg_Account_Balance</th>\n",
       "      <th>Is_Active</th>\n",
       "    </tr>\n",
       "  </thead>\n",
       "  <tbody>\n",
       "    <tr>\n",
       "      <th>0</th>\n",
       "      <td>Female</td>\n",
       "      <td>73</td>\n",
       "      <td>RG268</td>\n",
       "      <td>Other</td>\n",
       "      <td>X3</td>\n",
       "      <td>43</td>\n",
       "      <td>No</td>\n",
       "      <td>1045696</td>\n",
       "      <td>No</td>\n",
       "    </tr>\n",
       "    <tr>\n",
       "      <th>1</th>\n",
       "      <td>Female</td>\n",
       "      <td>30</td>\n",
       "      <td>RG277</td>\n",
       "      <td>Salaried</td>\n",
       "      <td>X1</td>\n",
       "      <td>32</td>\n",
       "      <td>No</td>\n",
       "      <td>581988</td>\n",
       "      <td>No</td>\n",
       "    </tr>\n",
       "    <tr>\n",
       "      <th>2</th>\n",
       "      <td>Female</td>\n",
       "      <td>56</td>\n",
       "      <td>RG268</td>\n",
       "      <td>Self_Employed</td>\n",
       "      <td>X3</td>\n",
       "      <td>26</td>\n",
       "      <td>No</td>\n",
       "      <td>1484315</td>\n",
       "      <td>Yes</td>\n",
       "    </tr>\n",
       "    <tr>\n",
       "      <th>3</th>\n",
       "      <td>Male</td>\n",
       "      <td>34</td>\n",
       "      <td>RG270</td>\n",
       "      <td>Salaried</td>\n",
       "      <td>X1</td>\n",
       "      <td>19</td>\n",
       "      <td>No</td>\n",
       "      <td>470454</td>\n",
       "      <td>No</td>\n",
       "    </tr>\n",
       "    <tr>\n",
       "      <th>4</th>\n",
       "      <td>Female</td>\n",
       "      <td>30</td>\n",
       "      <td>RG282</td>\n",
       "      <td>Salaried</td>\n",
       "      <td>X1</td>\n",
       "      <td>33</td>\n",
       "      <td>No</td>\n",
       "      <td>886787</td>\n",
       "      <td>No</td>\n",
       "    </tr>\n",
       "  </tbody>\n",
       "</table>\n",
       "</div>"
      ],
      "text/plain": [
       "   Gender  Age Region_Code     Occupation Channel_Code  Vintage  \\\n",
       "0  Female   73       RG268          Other           X3       43   \n",
       "1  Female   30       RG277       Salaried           X1       32   \n",
       "2  Female   56       RG268  Self_Employed           X3       26   \n",
       "3    Male   34       RG270       Salaried           X1       19   \n",
       "4  Female   30       RG282       Salaried           X1       33   \n",
       "\n",
       "  Credit_Product  Avg_Account_Balance Is_Active  \n",
       "0             No              1045696        No  \n",
       "1             No               581988        No  \n",
       "2             No              1484315       Yes  \n",
       "3             No               470454        No  \n",
       "4             No               886787        No  "
      ]
     },
     "execution_count": 21,
     "metadata": {},
     "output_type": "execute_result"
    }
   ],
   "source": [
    "combined.head()"
   ]
  },
  {
   "cell_type": "markdown",
   "metadata": {},
   "source": [
    "### Changing To Labelencoding"
   ]
  },
  {
   "cell_type": "code",
   "execution_count": 22,
   "metadata": {},
   "outputs": [],
   "source": [
    "def process_gender():\n",
    "    global combined\n",
    "    combined['Gender'] = combined['Gender'].map({'Male':1,'Female':0})   "
   ]
  },
  {
   "cell_type": "code",
   "execution_count": 23,
   "metadata": {},
   "outputs": [
    {
     "data": {
      "text/plain": [
       "array(['No', 'Yes'], dtype=object)"
      ]
     },
     "execution_count": 23,
     "metadata": {},
     "output_type": "execute_result"
    }
   ],
   "source": [
    "combined[\"Is_Active\"].unique()"
   ]
  },
  {
   "cell_type": "code",
   "execution_count": 24,
   "metadata": {},
   "outputs": [],
   "source": [
    "def process_Occupation():\n",
    "    global combined\n",
    "    combined['Occupation'] = combined['Occupation'].map({'Other':0,'Salaried':1,'Self_Employed':2,'Entrepreneur':3})"
   ]
  },
  {
   "cell_type": "code",
   "execution_count": 25,
   "metadata": {},
   "outputs": [],
   "source": [
    "def process_Credit_Product():\n",
    "    global combined\n",
    "    combined['Credit_Product'] = combined['Credit_Product'].map({'No':0,'Yes':1})"
   ]
  },
  {
   "cell_type": "code",
   "execution_count": 26,
   "metadata": {},
   "outputs": [],
   "source": [
    "def process_Is_Active():\n",
    "    global combined\n",
    "    combined['Is_Active'] = combined['Is_Active'].map({'No':0,'Yes':1})"
   ]
  },
  {
   "cell_type": "code",
   "execution_count": 27,
   "metadata": {},
   "outputs": [],
   "source": [
    "def process_Avg_Account():\n",
    "    global combined\n",
    "    combined[\"Avg_Account_Balance\"]=np.log(combined[\"Avg_Account_Balance\"])"
   ]
  },
  {
   "cell_type": "code",
   "execution_count": 28,
   "metadata": {},
   "outputs": [],
   "source": [
    "process_gender()\n",
    "process_Occupation()\n",
    "process_Credit_Product()\n",
    "process_Is_Active()\n",
    "process_Avg_Account()"
   ]
  },
  {
   "cell_type": "code",
   "execution_count": 29,
   "metadata": {},
   "outputs": [
    {
     "data": {
      "text/html": [
       "<div>\n",
       "<style scoped>\n",
       "    .dataframe tbody tr th:only-of-type {\n",
       "        vertical-align: middle;\n",
       "    }\n",
       "\n",
       "    .dataframe tbody tr th {\n",
       "        vertical-align: top;\n",
       "    }\n",
       "\n",
       "    .dataframe thead th {\n",
       "        text-align: right;\n",
       "    }\n",
       "</style>\n",
       "<table border=\"1\" class=\"dataframe\">\n",
       "  <thead>\n",
       "    <tr style=\"text-align: right;\">\n",
       "      <th></th>\n",
       "      <th>Gender</th>\n",
       "      <th>Age</th>\n",
       "      <th>Region_Code</th>\n",
       "      <th>Occupation</th>\n",
       "      <th>Channel_Code</th>\n",
       "      <th>Vintage</th>\n",
       "      <th>Credit_Product</th>\n",
       "      <th>Avg_Account_Balance</th>\n",
       "      <th>Is_Active</th>\n",
       "    </tr>\n",
       "  </thead>\n",
       "  <tbody>\n",
       "    <tr>\n",
       "      <th>0</th>\n",
       "      <td>0</td>\n",
       "      <td>73</td>\n",
       "      <td>RG268</td>\n",
       "      <td>0</td>\n",
       "      <td>X3</td>\n",
       "      <td>43</td>\n",
       "      <td>0</td>\n",
       "      <td>13.860193</td>\n",
       "      <td>0</td>\n",
       "    </tr>\n",
       "    <tr>\n",
       "      <th>1</th>\n",
       "      <td>0</td>\n",
       "      <td>30</td>\n",
       "      <td>RG277</td>\n",
       "      <td>1</td>\n",
       "      <td>X1</td>\n",
       "      <td>32</td>\n",
       "      <td>0</td>\n",
       "      <td>13.274205</td>\n",
       "      <td>0</td>\n",
       "    </tr>\n",
       "    <tr>\n",
       "      <th>2</th>\n",
       "      <td>0</td>\n",
       "      <td>56</td>\n",
       "      <td>RG268</td>\n",
       "      <td>2</td>\n",
       "      <td>X3</td>\n",
       "      <td>26</td>\n",
       "      <td>0</td>\n",
       "      <td>14.210464</td>\n",
       "      <td>1</td>\n",
       "    </tr>\n",
       "    <tr>\n",
       "      <th>3</th>\n",
       "      <td>1</td>\n",
       "      <td>34</td>\n",
       "      <td>RG270</td>\n",
       "      <td>1</td>\n",
       "      <td>X1</td>\n",
       "      <td>19</td>\n",
       "      <td>0</td>\n",
       "      <td>13.061453</td>\n",
       "      <td>0</td>\n",
       "    </tr>\n",
       "    <tr>\n",
       "      <th>4</th>\n",
       "      <td>0</td>\n",
       "      <td>30</td>\n",
       "      <td>RG282</td>\n",
       "      <td>1</td>\n",
       "      <td>X1</td>\n",
       "      <td>33</td>\n",
       "      <td>0</td>\n",
       "      <td>13.695360</td>\n",
       "      <td>0</td>\n",
       "    </tr>\n",
       "  </tbody>\n",
       "</table>\n",
       "</div>"
      ],
      "text/plain": [
       "   Gender  Age Region_Code  Occupation Channel_Code  Vintage  Credit_Product  \\\n",
       "0       0   73       RG268           0           X3       43               0   \n",
       "1       0   30       RG277           1           X1       32               0   \n",
       "2       0   56       RG268           2           X3       26               0   \n",
       "3       1   34       RG270           1           X1       19               0   \n",
       "4       0   30       RG282           1           X1       33               0   \n",
       "\n",
       "   Avg_Account_Balance  Is_Active  \n",
       "0            13.860193          0  \n",
       "1            13.274205          0  \n",
       "2            14.210464          1  \n",
       "3            13.061453          0  \n",
       "4            13.695360          0  "
      ]
     },
     "execution_count": 29,
     "metadata": {},
     "output_type": "execute_result"
    }
   ],
   "source": [
    "combined.head()"
   ]
  },
  {
   "cell_type": "code",
   "execution_count": 30,
   "metadata": {},
   "outputs": [
    {
     "data": {
      "text/plain": [
       "(351037, 9)"
      ]
     },
     "execution_count": 30,
     "metadata": {},
     "output_type": "execute_result"
    }
   ],
   "source": [
    "combined.shape"
   ]
  },
  {
   "cell_type": "code",
   "execution_count": 31,
   "metadata": {},
   "outputs": [],
   "source": [
    "from sklearn.preprocessing import LabelEncoder\n",
    "label = LabelEncoder()\n",
    "var_label = ['Region_Code','Channel_Code']\n",
    "for i in var_label:\n",
    "    combined[i]=label.fit_transform(combined[i])"
   ]
  },
  {
   "cell_type": "markdown",
   "metadata": {},
   "source": [
    "### Normalize The Data"
   ]
  },
  {
   "cell_type": "code",
   "execution_count": 45,
   "metadata": {},
   "outputs": [],
   "source": [
    "train_01=combined[:245725]\n",
    "train_01[\"Avg_Account_Balance\"]=np.log(train_01[\"Avg_Account_Balance\"])\n",
    "test=combined[245725:]"
   ]
  },
  {
   "cell_type": "code",
   "execution_count": 33,
   "metadata": {},
   "outputs": [
    {
     "data": {
      "text/plain": [
       "<AxesSubplot:xlabel='Avg_Account_Balance', ylabel='Density'>"
      ]
     },
     "execution_count": 33,
     "metadata": {},
     "output_type": "execute_result"
    },
    {
     "data": {
      "image/png": "[encoded data removed]",
      "text/plain": [
       "<Figure size 432x288 with 1 Axes>"
      ]
     },
     "metadata": {
      "needs_background": "light"
     },
     "output_type": "display_data"
    }
   ],
   "source": [
    "import seaborn as sns\n",
    "sns.distplot(train_01[\"Avg_Account_Balance\"])"
   ]
  },
  {
   "cell_type": "code",
   "execution_count": 34,
   "metadata": {},
   "outputs": [],
   "source": [
    "from sklearn.model_selection import cross_val_score\n",
    "from sklearn.feature_selection import SelectFromModel\n",
    "from sklearn.model_selection import KFold, StratifiedKFold"
   ]
  },
  {
   "cell_type": "code",
   "execution_count": 35,
   "metadata": {},
   "outputs": [],
   "source": [
    "from sklearn.metrics import roc_curve\n",
    "from sklearn.metrics import roc_auc_score"
   ]
  },
  {
   "cell_type": "markdown",
   "metadata": {},
   "source": [
    "### User defined function for validating all the models"
   ]
  },
  {
   "cell_type": "code",
   "execution_count": 36,
   "metadata": {},
   "outputs": [],
   "source": [
    "def cross_val_score(train_01,targets,model,params, folds=9): \n",
    "    \n",
    "    skf = StratifiedKFold(n_splits=folds, shuffle=True, random_state=21)\n",
    "    \n",
    "    for fold, (train_temp,test_temp) in enumerate(skf.split(train_01,targets)):\n",
    "        \n",
    "        x_train,y_train = train_01.iloc[train_temp], targets.iloc[train_temp]\n",
    "    \n",
    "        x_test,y_test = train_01.iloc[test_temp],targets.iloc[test_temp]\n",
    "    \n",
    "    \n",
    "        models=model(**params)\n",
    "        models.fit(x_train,y_train,\n",
    "                  eval_set=[(x_test, y_test)],\n",
    "                  early_stopping_rounds=100,\n",
    "                  verbose=400)\n",
    "    \n",
    "        pred = models.predict_proba(x_test)[:, 1]\n",
    "        roc = roc_auc_score(y_test, pred)\n",
    "        print(f\"roc_auc_score: {roc}\")\n",
    "        print(\"-\"*50)\n",
    "        \n",
    "    return models"
   ]
  },
  {
   "cell_type": "markdown",
   "metadata": {},
   "source": [
    "### Cat Boosting"
   ]
  },
  {
   "cell_type": "code",
   "execution_count": 37,
   "metadata": {},
   "outputs": [],
   "source": [
    "from catboost import CatBoostClassifier"
   ]
  },
  {
   "cell_type": "code",
   "execution_count": 38,
   "metadata": {},
   "outputs": [],
   "source": [
    "cat_params= {'n_estimators': 20000, \n",
    "                  'depth': 4, \n",
    "                  'learning_rate': 0.023, \n",
    "                  'colsample_bylevel': 0.655, \n",
    "                  'bagging_temperature': 0.921, \n",
    "                  'l2_leaf_reg': 10.133}"
   ]
  },
  {
   "cell_type": "code",
   "execution_count": 39,
   "metadata": {},
   "outputs": [
    {
     "name": "stdout",
     "output_type": "stream",
     "text": [
      "0:\tlearn: 0.6764678\ttest: 0.6763910\tbest: 0.6763910 (0)\ttotal: 212ms\tremaining: 1h 10m 44s\n",
      "400:\tlearn: 0.3840831\ttest: 0.3812470\tbest: 0.3812470 (400)\ttotal: 12.4s\tremaining: 10m 7s\n",
      "800:\tlearn: 0.3816690\ttest: 0.3793632\tbest: 0.3793632 (800)\ttotal: 24.1s\tremaining: 9m 36s\n",
      "1200:\tlearn: 0.3804683\ttest: 0.3788887\tbest: 0.3788867 (1195)\ttotal: 35.8s\tremaining: 9m 20s\n",
      "Stopped by overfitting detector  (100 iterations wait)\n",
      "\n",
      "bestTest = 0.3788603321\n",
      "bestIteration = 1262\n",
      "\n",
      "Shrink model to first 1263 iterations.\n",
      "roc_auc_score: 0.8534662208713549\n",
      "--------------------------------------------------\n",
      "0:\tlearn: 0.6764287\ttest: 0.6764170\tbest: 0.6764170 (0)\ttotal: 35ms\tremaining: 11m 39s\n",
      "400:\tlearn: 0.3835090\ttest: 0.3849410\tbest: 0.3849410 (400)\ttotal: 11.5s\tremaining: 9m 22s\n",
      "800:\tlearn: 0.3810211\ttest: 0.3832959\tbest: 0.3832959 (800)\ttotal: 23.2s\tremaining: 9m 15s\n",
      "1200:\tlearn: 0.3798645\ttest: 0.3829370\tbest: 0.3829357 (1199)\ttotal: 35.1s\tremaining: 9m 10s\n",
      "1600:\tlearn: 0.3790241\ttest: 0.3828621\tbest: 0.3828552 (1533)\ttotal: 53.5s\tremaining: 10m 15s\n",
      "Stopped by overfitting detector  (100 iterations wait)\n",
      "\n",
      "bestTest = 0.3828552118\n",
      "bestIteration = 1533\n",
      "\n",
      "Shrink model to first 1534 iterations.\n",
      "roc_auc_score: 0.8497747243512861\n",
      "--------------------------------------------------\n",
      "0:\tlearn: 0.6763941\ttest: 0.6764304\tbest: 0.6764304 (0)\ttotal: 130ms\tremaining: 43m 14s\n",
      "400:\tlearn: 0.3831997\ttest: 0.3868853\tbest: 0.3868853 (400)\ttotal: 23.6s\tremaining: 19m 12s\n",
      "800:\tlearn: 0.3808481\ttest: 0.3853963\tbest: 0.3853963 (800)\ttotal: 49.6s\tremaining: 19m 49s\n",
      "1200:\tlearn: 0.3796705\ttest: 0.3850565\tbest: 0.3850527 (1197)\ttotal: 1m 12s\tremaining: 18m 48s\n",
      "1600:\tlearn: 0.3787914\ttest: 0.3849391\tbest: 0.3849363 (1587)\ttotal: 1m 33s\tremaining: 17m 56s\n",
      "Stopped by overfitting detector  (100 iterations wait)\n",
      "\n",
      "bestTest = 0.3848791037\n",
      "bestIteration = 1858\n",
      "\n",
      "Shrink model to first 1859 iterations.\n",
      "roc_auc_score: 0.8478888057571725\n",
      "--------------------------------------------------\n",
      "0:\tlearn: 0.6764139\ttest: 0.6764110\tbest: 0.6764110 (0)\ttotal: 39.6ms\tremaining: 13m 12s\n",
      "400:\tlearn: 0.3838632\ttest: 0.3862171\tbest: 0.3862156 (399)\ttotal: 29.1s\tremaining: 23m 40s\n",
      "800:\tlearn: 0.3811189\ttest: 0.3840444\tbest: 0.3840443 (799)\ttotal: 55.7s\tremaining: 22m 15s\n",
      "1200:\tlearn: 0.3799021\ttest: 0.3836395\tbest: 0.3836395 (1200)\ttotal: 1m 18s\tremaining: 20m 32s\n",
      "Stopped by overfitting detector  (100 iterations wait)\n",
      "\n",
      "bestTest = 0.3834940617\n",
      "bestIteration = 1465\n",
      "\n",
      "Shrink model to first 1466 iterations.\n",
      "roc_auc_score: 0.8491682875058448\n",
      "--------------------------------------------------\n",
      "0:\tlearn: 0.6764543\ttest: 0.6764754\tbest: 0.6764754 (0)\ttotal: 39.5ms\tremaining: 13m 9s\n",
      "400:\tlearn: 0.3838483\ttest: 0.3831519\tbest: 0.3831519 (400)\ttotal: 27.9s\tremaining: 22m 43s\n",
      "800:\tlearn: 0.3814510\ttest: 0.3813734\tbest: 0.3813734 (800)\ttotal: 55.6s\tremaining: 22m 13s\n",
      "1200:\tlearn: 0.3802430\ttest: 0.3809638\tbest: 0.3809638 (1200)\ttotal: 1m 32s\tremaining: 24m 13s\n",
      "1600:\tlearn: 0.3793834\ttest: 0.3808041\tbest: 0.3808030 (1599)\ttotal: 2m 10s\tremaining: 25m\n",
      "2000:\tlearn: 0.3786733\ttest: 0.3807633\tbest: 0.3807527 (1936)\ttotal: 2m 40s\tremaining: 24m 6s\n",
      "Stopped by overfitting detector  (100 iterations wait)\n",
      "\n",
      "bestTest = 0.3807420643\n",
      "bestIteration = 2029\n",
      "\n",
      "Shrink model to first 2030 iterations.\n",
      "roc_auc_score: 0.8521278174493615\n",
      "--------------------------------------------------\n",
      "0:\tlearn: 0.6764148\ttest: 0.6764313\tbest: 0.6764313 (0)\ttotal: 29.7ms\tremaining: 9m 53s\n",
      "400:\tlearn: 0.3837472\ttest: 0.3850326\tbest: 0.3850326 (400)\ttotal: 28.7s\tremaining: 23m 21s\n",
      "800:\tlearn: 0.3811356\ttest: 0.3830523\tbest: 0.3830480 (796)\ttotal: 55.6s\tremaining: 22m 13s\n",
      "1200:\tlearn: 0.3799792\ttest: 0.3825350\tbest: 0.3825322 (1192)\ttotal: 1m 22s\tremaining: 21m 28s\n",
      "1600:\tlearn: 0.3791576\ttest: 0.3823168\tbest: 0.3823158 (1595)\ttotal: 1m 52s\tremaining: 21m 30s\n",
      "2000:\tlearn: 0.3784338\ttest: 0.3821717\tbest: 0.3821690 (1974)\ttotal: 2m 19s\tremaining: 20m 54s\n",
      "2400:\tlearn: 0.3778038\ttest: 0.3820935\tbest: 0.3820888 (2387)\ttotal: 2m 48s\tremaining: 20m 34s\n",
      "Stopped by overfitting detector  (100 iterations wait)\n",
      "\n",
      "bestTest = 0.3820887712\n",
      "bestIteration = 2413\n",
      "\n",
      "Shrink model to first 2414 iterations.\n",
      "roc_auc_score: 0.8507603365592655\n",
      "--------------------------------------------------\n",
      "0:\tlearn: 0.6764692\ttest: 0.6764527\tbest: 0.6764527 (0)\ttotal: 32.7ms\tremaining: 10m 53s\n",
      "400:\tlearn: 0.3842180\ttest: 0.3816747\tbest: 0.3816747 (400)\ttotal: 23.5s\tremaining: 19m 9s\n",
      "800:\tlearn: 0.3815387\ttest: 0.3795591\tbest: 0.3795591 (800)\ttotal: 54s\tremaining: 21m 33s\n",
      "1200:\tlearn: 0.3804100\ttest: 0.3790921\tbest: 0.3790894 (1199)\ttotal: 1m 29s\tremaining: 23m 19s\n",
      "1600:\tlearn: 0.3795710\ttest: 0.3789600\tbest: 0.3789575 (1597)\ttotal: 1m 58s\tremaining: 22m 46s\n",
      "Stopped by overfitting detector  (100 iterations wait)\n",
      "\n",
      "bestTest = 0.3789398023\n",
      "bestIteration = 1653\n",
      "\n",
      "Shrink model to first 1654 iterations.\n",
      "roc_auc_score: 0.8537091392436927\n",
      "--------------------------------------------------\n",
      "0:\tlearn: 0.6764441\ttest: 0.6764175\tbest: 0.6764175 (0)\ttotal: 31.9ms\tremaining: 10m 38s\n",
      "400:\tlearn: 0.3840519\ttest: 0.3835527\tbest: 0.3835527 (400)\ttotal: 21.3s\tremaining: 17m 20s\n",
      "800:\tlearn: 0.3813808\ttest: 0.3812576\tbest: 0.3812576 (800)\ttotal: 42.5s\tremaining: 16m 58s\n",
      "1200:\tlearn: 0.3802533\ttest: 0.3806831\tbest: 0.3806831 (1200)\ttotal: 1m 5s\tremaining: 17m\n",
      "1600:\tlearn: 0.3793825\ttest: 0.3803873\tbest: 0.3803873 (1600)\ttotal: 1m 30s\tremaining: 17m 21s\n",
      "2000:\tlearn: 0.3786714\ttest: 0.3802550\tbest: 0.3802515 (1983)\ttotal: 1m 56s\tremaining: 17m 24s\n",
      "Stopped by overfitting detector  (100 iterations wait)\n",
      "\n",
      "bestTest = 0.3802515279\n",
      "bestIteration = 1983\n",
      "\n",
      "Shrink model to first 1984 iterations.\n",
      "roc_auc_score: 0.8532659827327779\n",
      "--------------------------------------------------\n",
      "0:\tlearn: 0.6763894\ttest: 0.6764649\tbest: 0.6764649 (0)\ttotal: 36.4ms\tremaining: 12m 7s\n",
      "400:\tlearn: 0.3834948\ttest: 0.3857205\tbest: 0.3857205 (400)\ttotal: 29.5s\tremaining: 24m 2s\n",
      "800:\tlearn: 0.3811150\ttest: 0.3839424\tbest: 0.3839422 (799)\ttotal: 58.7s\tremaining: 23m 25s\n",
      "1200:\tlearn: 0.3799050\ttest: 0.3835400\tbest: 0.3835400 (1200)\ttotal: 1m 28s\tremaining: 22m 57s\n",
      "1600:\tlearn: 0.3790025\ttest: 0.3833916\tbest: 0.3833904 (1591)\ttotal: 1m 58s\tremaining: 22m 36s\n",
      "2000:\tlearn: 0.3782844\ttest: 0.3833525\tbest: 0.3833360 (1924)\ttotal: 2m 24s\tremaining: 21m 40s\n",
      "Stopped by overfitting detector  (100 iterations wait)\n",
      "\n",
      "bestTest = 0.3833360429\n",
      "bestIteration = 1924\n",
      "\n",
      "Shrink model to first 1925 iterations.\n",
      "roc_auc_score: 0.8483197747126445\n",
      "--------------------------------------------------\n"
     ]
    }
   ],
   "source": [
    "result_cat_boost=cross_val_score(train_01,targets,CatBoostClassifier,cat_params)"
   ]
  },
  {
   "cell_type": "markdown",
   "metadata": {},
   "source": [
    "### Light Gradiant Boosting"
   ]
  },
  {
   "cell_type": "code",
   "execution_count": 40,
   "metadata": {},
   "outputs": [],
   "source": [
    "from lightgbm import LGBMClassifier\n",
    "\n",
    "lgb_params= {'learning_rate': 0.045, \n",
    "             'n_estimators': 20000, \n",
    "             'max_bin': 94,\n",
    "             'num_leaves': 10, \n",
    "             'max_depth': 27, \n",
    "             'reg_alpha': 8.457, \n",
    "             'reg_lambda': 6.853, \n",
    "             'subsample': 0.749}"
   ]
  },
  {
   "cell_type": "code",
   "execution_count": 41,
   "metadata": {},
   "outputs": [
    {
     "name": "stdout",
     "output_type": "stream",
     "text": [
      "Training until validation scores don't improve for 100 rounds\n",
      "[400]\tvalid_0's binary_logloss: 0.378331\n",
      "Early stopping, best iteration is:\n",
      "[508]\tvalid_0's binary_logloss: 0.378207\n",
      "roc_auc_score: 0.8540707888477899\n",
      "--------------------------------------------------\n",
      "Training until validation scores don't improve for 100 rounds\n",
      "[400]\tvalid_0's binary_logloss: 0.382506\n",
      "Early stopping, best iteration is:\n",
      "[534]\tvalid_0's binary_logloss: 0.382352\n",
      "roc_auc_score: 0.8503299839469914\n",
      "--------------------------------------------------\n",
      "Training until validation scores don't improve for 100 rounds\n",
      "[400]\tvalid_0's binary_logloss: 0.384736\n",
      "[800]\tvalid_0's binary_logloss: 0.384589\n",
      "Early stopping, best iteration is:\n",
      "[973]\tvalid_0's binary_logloss: 0.384474\n",
      "roc_auc_score: 0.8475691187020175\n",
      "--------------------------------------------------\n",
      "Training until validation scores don't improve for 100 rounds\n",
      "[400]\tvalid_0's binary_logloss: 0.383306\n",
      "Early stopping, best iteration is:\n",
      "[607]\tvalid_0's binary_logloss: 0.383154\n",
      "roc_auc_score: 0.849338733792887\n",
      "--------------------------------------------------\n",
      "Training until validation scores don't improve for 100 rounds\n",
      "[400]\tvalid_0's binary_logloss: 0.380965\n",
      "Early stopping, best iteration is:\n",
      "[554]\tvalid_0's binary_logloss: 0.380877\n",
      "roc_auc_score: 0.8516787997378782\n",
      "--------------------------------------------------\n",
      "Training until validation scores don't improve for 100 rounds\n",
      "[400]\tvalid_0's binary_logloss: 0.382284\n",
      "Early stopping, best iteration is:\n",
      "[578]\tvalid_0's binary_logloss: 0.382212\n",
      "roc_auc_score: 0.8503182949022419\n",
      "--------------------------------------------------\n",
      "Training until validation scores don't improve for 100 rounds\n",
      "[400]\tvalid_0's binary_logloss: 0.378798\n",
      "[800]\tvalid_0's binary_logloss: 0.378564\n",
      "Early stopping, best iteration is:\n",
      "[827]\tvalid_0's binary_logloss: 0.378535\n",
      "roc_auc_score: 0.8543172717871262\n",
      "--------------------------------------------------\n",
      "Training until validation scores don't improve for 100 rounds\n",
      "[400]\tvalid_0's binary_logloss: 0.380613\n",
      "[800]\tvalid_0's binary_logloss: 0.380376\n",
      "Early stopping, best iteration is:\n",
      "[980]\tvalid_0's binary_logloss: 0.380299\n",
      "roc_auc_score: 0.8532658047825546\n",
      "--------------------------------------------------\n",
      "Training until validation scores don't improve for 100 rounds\n",
      "[400]\tvalid_0's binary_logloss: 0.383039\n",
      "[800]\tvalid_0's binary_logloss: 0.382755\n",
      "Early stopping, best iteration is:\n",
      "[842]\tvalid_0's binary_logloss: 0.382734\n",
      "roc_auc_score: 0.8485059773776628\n",
      "--------------------------------------------------\n"
     ]
    }
   ],
   "source": [
    "result_lgb = cross_val_score(train_01,targets,LGBMClassifier,lgb_params)"
   ]
  },
  {
   "cell_type": "markdown",
   "metadata": {},
   "source": [
    "### Xtreame Gradiant Boosting"
   ]
  },
  {
   "cell_type": "code",
   "execution_count": 42,
   "metadata": {},
   "outputs": [],
   "source": [
    "from xgboost import XGBClassifier\n",
    "\n",
    "xgb_params= {'n_estimators': 20000, \n",
    "             'max_depth': 6, \n",
    "             'learning_rate': 0.0201, \n",
    "             'reg_lambda': 29.326, \n",
    "             'subsample': 0.818, \n",
    "             'colsample_bytree': 0.235, \n",
    "             'colsample_bynode': 0.820, \n",
    "             'colsample_bylevel': 0.453}"
   ]
  },
  {
   "cell_type": "code",
   "execution_count": 43,
   "metadata": {},
   "outputs": [
    {
     "name": "stdout",
     "output_type": "stream",
     "text": [
      "[11:05:12] WARNING: C:/Users/Administrator/workspace/xgboost-win64_release_1.4.0/src/learner.cc:1095: Starting in XGBoost 1.3.0, the default evaluation metric used with the objective 'binary:logistic' was changed from 'error' to 'logloss'. Explicitly set eval_metric if you'd like to restore the old behavior.\n",
      "[0]\tvalidation_0-logloss:0.68733\n",
      "[400]\tvalidation_0-logloss:0.39713\n",
      "[800]\tvalidation_0-logloss:0.38746\n",
      "[1200]\tvalidation_0-logloss:0.38465\n",
      "[1600]\tvalidation_0-logloss:0.38339\n",
      "[2000]\tvalidation_0-logloss:0.38262\n",
      "[2400]\tvalidation_0-logloss:0.38202\n",
      "[2800]\tvalidation_0-logloss:0.38167\n",
      "[3200]\tvalidation_0-logloss:0.38140\n",
      "[3600]\tvalidation_0-logloss:0.38114\n",
      "[4000]\tvalidation_0-logloss:0.38089\n",
      "[4295]\tvalidation_0-logloss:0.38083\n",
      "roc_auc_score: 0.8523403208460485\n",
      "--------------------------------------------------\n",
      "[11:10:53] WARNING: C:/Users/Administrator/workspace/xgboost-win64_release_1.4.0/src/learner.cc:1095: Starting in XGBoost 1.3.0, the default evaluation metric used with the objective 'binary:logistic' was changed from 'error' to 'logloss'. Explicitly set eval_metric if you'd like to restore the old behavior.\n",
      "[0]\tvalidation_0-logloss:0.68729\n",
      "[400]\tvalidation_0-logloss:0.39922\n",
      "[800]\tvalidation_0-logloss:0.39041\n",
      "[1200]\tvalidation_0-logloss:0.38786\n",
      "[1600]\tvalidation_0-logloss:0.38669\n",
      "[2000]\tvalidation_0-logloss:0.38601\n",
      "[2400]\tvalidation_0-logloss:0.38544\n",
      "[2800]\tvalidation_0-logloss:0.38517\n",
      "[3200]\tvalidation_0-logloss:0.38492\n",
      "[3600]\tvalidation_0-logloss:0.38477\n",
      "[4000]\tvalidation_0-logloss:0.38455\n",
      "[4295]\tvalidation_0-logloss:0.38450\n",
      "roc_auc_score: 0.8490779492209608\n",
      "--------------------------------------------------\n",
      "[11:15:09] WARNING: C:/Users/Administrator/workspace/xgboost-win64_release_1.4.0/src/learner.cc:1095: Starting in XGBoost 1.3.0, the default evaluation metric used with the objective 'binary:logistic' was changed from 'error' to 'logloss'. Explicitly set eval_metric if you'd like to restore the old behavior.\n",
      "[0]\tvalidation_0-logloss:0.68731\n",
      "[400]\tvalidation_0-logloss:0.40125\n",
      "[800]\tvalidation_0-logloss:0.39225\n",
      "[1200]\tvalidation_0-logloss:0.38942\n",
      "[1600]\tvalidation_0-logloss:0.38817\n",
      "[2000]\tvalidation_0-logloss:0.38745\n",
      "[2400]\tvalidation_0-logloss:0.38694\n",
      "[2800]\tvalidation_0-logloss:0.38655\n",
      "[3200]\tvalidation_0-logloss:0.38632\n",
      "[3585]\tvalidation_0-logloss:0.38617\n",
      "roc_auc_score: 0.846997970397207\n",
      "--------------------------------------------------\n",
      "[11:18:40] WARNING: C:/Users/Administrator/workspace/xgboost-win64_release_1.4.0/src/learner.cc:1095: Starting in XGBoost 1.3.0, the default evaluation metric used with the objective 'binary:logistic' was changed from 'error' to 'logloss'. Explicitly set eval_metric if you'd like to restore the old behavior.\n",
      "[0]\tvalidation_0-logloss:0.68732\n",
      "[400]\tvalidation_0-logloss:0.40148\n",
      "[800]\tvalidation_0-logloss:0.39262\n",
      "[1200]\tvalidation_0-logloss:0.38980\n",
      "[1600]\tvalidation_0-logloss:0.38842\n",
      "[2000]\tvalidation_0-logloss:0.38761\n",
      "[2400]\tvalidation_0-logloss:0.38689\n",
      "[2754]\tvalidation_0-logloss:0.38658\n",
      "roc_auc_score: 0.8472140507492913\n",
      "--------------------------------------------------\n",
      "[11:21:20] WARNING: C:/Users/Administrator/workspace/xgboost-win64_release_1.4.0/src/learner.cc:1095: Starting in XGBoost 1.3.0, the default evaluation metric used with the objective 'binary:logistic' was changed from 'error' to 'logloss'. Explicitly set eval_metric if you'd like to restore the old behavior.\n",
      "[0]\tvalidation_0-logloss:0.68734\n",
      "[400]\tvalidation_0-logloss:0.39820\n",
      "[800]\tvalidation_0-logloss:0.38866\n",
      "[1200]\tvalidation_0-logloss:0.38584\n",
      "[1600]\tvalidation_0-logloss:0.38461\n",
      "[2000]\tvalidation_0-logloss:0.38384\n",
      "[2400]\tvalidation_0-logloss:0.38326\n",
      "[2800]\tvalidation_0-logloss:0.38287\n",
      "[3200]\tvalidation_0-logloss:0.38260\n",
      "[3600]\tvalidation_0-logloss:0.38245\n",
      "[4000]\tvalidation_0-logloss:0.38227\n",
      "[4209]\tvalidation_0-logloss:0.38222\n",
      "roc_auc_score: 0.852002808184405\n",
      "--------------------------------------------------\n",
      "[11:35:18] WARNING: C:/Users/Administrator/workspace/xgboost-win64_release_1.4.0/src/learner.cc:1095: Starting in XGBoost 1.3.0, the default evaluation metric used with the objective 'binary:logistic' was changed from 'error' to 'logloss'. Explicitly set eval_metric if you'd like to restore the old behavior.\n",
      "[0]\tvalidation_0-logloss:0.68733\n",
      "[400]\tvalidation_0-logloss:0.39917\n",
      "[800]\tvalidation_0-logloss:0.39024\n",
      "[1200]\tvalidation_0-logloss:0.38757\n",
      "[1600]\tvalidation_0-logloss:0.38630\n",
      "[2000]\tvalidation_0-logloss:0.38548\n",
      "[2400]\tvalidation_0-logloss:0.38485\n",
      "[2800]\tvalidation_0-logloss:0.38443\n",
      "[3200]\tvalidation_0-logloss:0.38415\n",
      "[3600]\tvalidation_0-logloss:0.38388\n",
      "[4000]\tvalidation_0-logloss:0.38363\n",
      "[4296]\tvalidation_0-logloss:0.38360\n",
      "roc_auc_score: 0.8499391341101767\n",
      "--------------------------------------------------\n",
      "[11:39:49] WARNING: C:/Users/Administrator/workspace/xgboost-win64_release_1.4.0/src/learner.cc:1095: Starting in XGBoost 1.3.0, the default evaluation metric used with the objective 'binary:logistic' was changed from 'error' to 'logloss'. Explicitly set eval_metric if you'd like to restore the old behavior.\n",
      "[0]\tvalidation_0-logloss:0.68733\n",
      "[400]\tvalidation_0-logloss:0.39678\n",
      "[800]\tvalidation_0-logloss:0.38718\n",
      "[1200]\tvalidation_0-logloss:0.38417\n",
      "[1600]\tvalidation_0-logloss:0.38275\n",
      "[2000]\tvalidation_0-logloss:0.38194\n",
      "[2400]\tvalidation_0-logloss:0.38131\n",
      "[2800]\tvalidation_0-logloss:0.38086\n",
      "[3200]\tvalidation_0-logloss:0.38057\n",
      "[3600]\tvalidation_0-logloss:0.38035\n",
      "[4000]\tvalidation_0-logloss:0.38014\n",
      "[4400]\tvalidation_0-logloss:0.38004\n",
      "[4800]\tvalidation_0-logloss:0.37985\n",
      "[5200]\tvalidation_0-logloss:0.37975\n",
      "[5360]\tvalidation_0-logloss:0.37974\n",
      "roc_auc_score: 0.8539259195800146\n",
      "--------------------------------------------------\n",
      "[11:45:17] WARNING: C:/Users/Administrator/workspace/xgboost-win64_release_1.4.0/src/learner.cc:1095: Starting in XGBoost 1.3.0, the default evaluation metric used with the objective 'binary:logistic' was changed from 'error' to 'logloss'. Explicitly set eval_metric if you'd like to restore the old behavior.\n",
      "[0]\tvalidation_0-logloss:0.68730\n",
      "[400]\tvalidation_0-logloss:0.40094\n",
      "[800]\tvalidation_0-logloss:0.39054\n",
      "[1200]\tvalidation_0-logloss:0.38673\n",
      "[1600]\tvalidation_0-logloss:0.38486\n",
      "[2000]\tvalidation_0-logloss:0.38393\n",
      "[2400]\tvalidation_0-logloss:0.38348\n",
      "[2800]\tvalidation_0-logloss:0.38317\n",
      "[3200]\tvalidation_0-logloss:0.38287\n",
      "[3600]\tvalidation_0-logloss:0.38258\n",
      "[4000]\tvalidation_0-logloss:0.38237\n",
      "[4400]\tvalidation_0-logloss:0.38222\n",
      "[4800]\tvalidation_0-logloss:0.38201\n",
      "[5200]\tvalidation_0-logloss:0.38192\n",
      "[5600]\tvalidation_0-logloss:0.38177\n",
      "[5752]\tvalidation_0-logloss:0.38176\n",
      "roc_auc_score: 0.8525676022518296\n",
      "--------------------------------------------------\n",
      "[11:51:16] WARNING: C:/Users/Administrator/workspace/xgboost-win64_release_1.4.0/src/learner.cc:1095: Starting in XGBoost 1.3.0, the default evaluation metric used with the objective 'binary:logistic' was changed from 'error' to 'logloss'. Explicitly set eval_metric if you'd like to restore the old behavior.\n",
      "[0]\tvalidation_0-logloss:0.68733\n",
      "[400]\tvalidation_0-logloss:0.40388\n",
      "[800]\tvalidation_0-logloss:0.39344\n",
      "[1200]\tvalidation_0-logloss:0.38950\n",
      "[1600]\tvalidation_0-logloss:0.38757\n",
      "[2000]\tvalidation_0-logloss:0.38660\n",
      "[2400]\tvalidation_0-logloss:0.38601\n",
      "[2800]\tvalidation_0-logloss:0.38566\n",
      "[3200]\tvalidation_0-logloss:0.38529\n",
      "[3600]\tvalidation_0-logloss:0.38504\n",
      "[4000]\tvalidation_0-logloss:0.38480\n",
      "[4400]\tvalidation_0-logloss:0.38460\n",
      "[4800]\tvalidation_0-logloss:0.38441\n",
      "[4917]\tvalidation_0-logloss:0.38439\n",
      "roc_auc_score: 0.8482683990002282\n",
      "--------------------------------------------------\n"
     ]
    }
   ],
   "source": [
    "result_xgb = cross_val_score(train_01,targets,XGBClassifier,xgb_params)"
   ]
  },
  {
   "cell_type": "markdown",
   "metadata": {},
   "source": [
    "### Average We Are Taking  of XGB,LGB And CAT"
   ]
  },
  {
   "cell_type": "code",
   "execution_count": 46,
   "metadata": {},
   "outputs": [],
   "source": [
    "pred_test_lgb = result_lgb.predict_proba(test)[:,1]\n",
    "pred_test_xgb = result_xgb.predict_proba(test)[:,1]\n",
    "pred_test_cat = result_cat_boost.predict_proba(test)[:,1]\n",
    "prediction = (pred_test_lgb + pred_test_cat+pred_test_xgb)/3"
   ]
  },
  {
   "cell_type": "markdown",
   "metadata": {},
   "source": [
    "### Output File"
   ]
  },
  {
   "cell_type": "code",
   "execution_count": 48,
   "metadata": {},
   "outputs": [],
   "source": [
    "output = prediction\n",
    "df_output = pd.DataFrame()\n",
    "temp = pd.read_csv('test_mSzZ8RL.csv')\n",
    "df_output['ID'] = temp['ID']\n",
    "df_output['Is_Lead'] = output\n",
    "df_output.to_csv('output_cxl.csv',index=False)"
   ]
  }
 ],
 "metadata": {
  "kernelspec": {
   "display_name": "Python 3",
   "language": "python",
   "name": "python3"
  },
  "language_info": {
   "codemirror_mode": {
    "name": "ipython",
    "version": 3
   },
   "file_extension": ".py",
   "mimetype": "text/x-python",
   "name": "python",
   "nbconvert_exporter": "python",
   "pygments_lexer": "ipython3",
   "version": "3.8.5"
  }
 },
 "nbformat": 4,
 "nbformat_minor": 5
}
